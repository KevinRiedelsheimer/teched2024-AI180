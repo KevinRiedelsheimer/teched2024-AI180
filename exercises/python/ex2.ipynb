{
 "cells": [
  {
   "cell_type": "markdown",
   "id": "7ae93e38-6452-483c-81eb-91c3d64246bc",
   "metadata": {},
   "source": [
    "# Moderated Chatbot"
   ]
  },
  {
   "cell_type": "markdown",
   "id": "5765115a-307b-453a-9fd4-222183564bf8",
   "metadata": {},
   "source": [
    "We will now combine templating and content filtering in a chatbot. Additionally we will make use of the orchestration services history capability."
   ]
  },
  {
   "cell_type": "markdown",
   "id": "5fe29833-0b77-45cb-926a-ce371c99056a",
   "metadata": {},
   "source": [
    "We start with building the chatbot class. This class will be responsible for providing the template for the user query and managing the history. Note that the `chat` method uses the `history` parameter to send along the history to the orchestration service."
   ]
  },
  {
   "cell_type": "code",
   "execution_count": null,
   "id": "5d2dc5f8-6e6f-4726-80bc-737a076bcfeb",
   "metadata": {},
   "outputs": [],
   "source": [
    "from typing import List\n",
    "\n",
    "from gen_ai_hub.orchestration.models.message import Message, SystemMessage, UserMessage\n",
    "from gen_ai_hub.orchestration.models.template import Template, TemplateValue\n",
    "from gen_ai_hub.orchestration.service import OrchestrationService\n",
    "\n",
    "\n",
    "class OrchestrationChatbot:\n",
    "    def __init__(self, orchestration_service: OrchestrationService):\n",
    "        self.service = orchestration_service\n",
    "        self.service.config.template = Template(\n",
    "            messages=[\n",
    "                SystemMessage(\"You are a helpful chatbot assistant.\"),\n",
    "                UserMessage(\"{{?user_query}}\"),\n",
    "            ],\n",
    "        )\n",
    "        self.history: List[Message] = []\n",
    "\n",
    "    def chat(self, user_input):\n",
    "        response = self.service.run(\n",
    "            template_values=[\n",
    "                TemplateValue(name=\"user_query\", value=user_input),\n",
    "            ],\n",
    "            history=self.history,\n",
    "        )\n",
    "\n",
    "        message = response.orchestration_result.choices[0].message\n",
    "\n",
    "        self.history = response.module_results.templating\n",
    "        self.history.append(message)\n",
    "\n",
    "        return message.content"
   ]
  },
  {
   "cell_type": "markdown",
   "id": "b4df3010-e28c-4677-b09e-4747855ce346",
   "metadata": {},
   "source": [
    "Next up we will create an orchestration configuration. Next to the model parameter we also pass a content filter for input and output to ensure a nice conversation."
   ]
  },
  {
   "cell_type": "code",
   "execution_count": null,
   "id": "e4b88013-88e0-4b09-904e-ee2d39bb881d",
   "metadata": {},
   "outputs": [],
   "source": [
    "from gen_ai_hub.orchestration.models.config import OrchestrationConfig\n",
    "from gen_ai_hub.orchestration.models.content_filter import AzureContentFilter\n",
    "from gen_ai_hub.orchestration.models.llm import LLM\n",
    "\n",
    "content_filter = AzureContentFilter(\n",
    "    hate=0,\n",
    "    sexual=0,\n",
    "    self_harm=0,\n",
    "    violence=0,\n",
    ")\n",
    "config = OrchestrationConfig(\n",
    "    llm=LLM(name=\"gemini-1.5-flash\"),\n",
    "    template=None,\n",
    "    input_filters=[content_filter],\n",
    "    output_filters=[content_filter],\n",
    ")\n",
    "\n",
    "orchestration_service = OrchestrationService(\n",
    "    api_url=os.environ[\"AICORE_ORCHESTRATION_DEPLOYMENT_URL\"],\n",
    "    config=config,\n",
    ")"
   ]
  },
  {
   "cell_type": "markdown",
   "id": "b00e7648-742c-48dd-b97a-d5463388d152",
   "metadata": {},
   "source": [
    "Lets chat with our bot and test if it is able to recall a conversation!"
   ]
  },
  {
   "cell_type": "code",
   "execution_count": null,
   "id": "4bccdf7a-f67a-4730-b206-d7b429ddbd74",
   "metadata": {},
   "outputs": [],
   "source": [
    "bot = OrchestrationChatbot(orchestration_service=orchestration_service)"
   ]
  },
  {
   "cell_type": "code",
   "execution_count": null,
   "id": "5f3e6a6e-9a56-4158-9748-21ca13f34126",
   "metadata": {},
   "outputs": [],
   "source": [
    "print(bot.chat(\"Hello, how are you?\"))"
   ]
  },
  {
   "cell_type": "code",
   "execution_count": null,
   "id": "0ae3fc17-5d36-48e7-847a-67be6fc402b3",
   "metadata": {},
   "outputs": [],
   "source": [
    "print(bot.chat(\"What's the weather like today?\"))"
   ]
  },
  {
   "cell_type": "code",
   "execution_count": null,
   "id": "93fa8a0b-319c-4c1d-9f35-a8aded75bf1a",
   "metadata": {},
   "outputs": [],
   "source": [
    "print(bot.chat(\"Can you remember what I first asked you?\"))"
   ]
  },
  {
   "cell_type": "markdown",
   "id": "db711813-490e-4021-ad92-bca3f26ef0c1",
   "metadata": {},
   "source": [
    "# Summary"
   ]
  },
  {
   "cell_type": "markdown",
   "id": "3497c99b-176d-4307-ba01-f7bbcb708411",
   "metadata": {},
   "source": [
    "In this exercise you got hands-on experience on how to use orchestration in complex scenarios. This exercise concludes the SAP generative AI hub SDK (Python) track. Feel free to futher explore the orchestration capabilities using this SDK or checkout the [SAP Cloud SDK for AI (JavaScript)](tbd) track."
   ]
  }
 ],
 "metadata": {
  "kernelspec": {
   "display_name": "Python 3 (ipykernel)",
   "language": "python",
   "name": "python3"
  },
  "language_info": {
   "codemirror_mode": {
    "name": "ipython",
    "version": 3
   },
   "file_extension": ".py",
   "mimetype": "text/x-python",
   "name": "python",
   "nbconvert_exporter": "python",
   "pygments_lexer": "ipython3",
   "version": "3.12.6"
  }
 },
 "nbformat": 4,
 "nbformat_minor": 5
}
